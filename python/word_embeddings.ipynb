{
 "cells": [
  {
   "cell_type": "markdown",
   "metadata": {},
   "source": [
    "# Word Embeddings with gluon"
   ]
  },
  {
   "cell_type": "markdown",
   "metadata": {},
   "source": [
    "Research into word embeddings is one of the most interesting in the deep learning\n",
    "world at the moment. The concept of word embeddings originate in the domain of NLP.\n",
    "\n",
    "In this tutorial, we will discuss about embeddings, why they are needed and commonly\n",
    "used model architectures to produce distributed words representation.\n",
    "We will also implement one of the most widely used word2vec algorithm, called\n",
    "\"Continuous bag of words\"(CBOW)."
   ]
  },
  {
   "cell_type": "markdown",
   "metadata": {},
   "source": [
    "In creating this tutorial, I've borrowed heavily from PyTorch :\n",
    "\n",
    "[Word Embeddings using Pytorch](http://pytorch.org/tutorials/beginner/nlp/word_embeddings_tutorial.html)"
   ]
  },
  {
   "cell_type": "markdown",
   "metadata": {},
   "source": [
    "## Introduction\n",
    "\n",
    "Word embeddings are dense vectors of real numbers, one per word in your vocabulary.\n",
    "So where can we use these word embeddings? We can use these as features\n",
    "for many machine learning and NLP applications like sentiment analysis, document classification.\n",
    "\n",
    "The semantic information in the vectors can be efficiently used for these tasks.\n",
    "We can also measure the semantic similarity between two words are by calculating the\n",
    "distance between corresponding word vectors."
   ]
  },
  {
   "cell_type": "markdown",
   "metadata": {},
   "source": [
    "Let’s see an example.\n",
    "\n",
    "Suppose we are building a language model. Suppose we have seen the sentences\n",
    "\n",
    "- The mathematician ran to the store.\n",
    "- The physicist ran to the store.\n",
    "- The mathematician solved the open problem.\n",
    "\n",
    "in our training data. Now suppose we get a new sentence never before seen in our training data:\n",
    "\n",
    "- The physicist solved the open problem.\n",
    "\n",
    "Our language model might do OK on this sentence, but wouldn’t it be much better if we could use the following two facts:\n",
    "\n",
    "- We have seen mathematician and physicist in the same role in a sentence. Somehow they have a semantic relation.\n",
    "- We have seen mathematician in the same role in this new unseen sentence as we are now seeing physicist.\n",
    "\n",
    "and then infer that physicist is actually a good fit in the new unseen sentence? This is what we mean by a notion of similarity: we mean semantic similarity, not simply having similar orthographic representations."
   ]
  },
  {
   "cell_type": "markdown",
   "metadata": {},
   "source": [
    "## Word Embeddings with semantic information\n",
    "\n",
    "[TODO]\n",
    "\n",
    "Now let's see how we can actually encode semantic similarity in words. Maybe we think up some semantic attributes. For example, we see that both mathematicians and physicists can run, so maybe we give these words a high score for the “is able to run” semantic attribute. Think of some other attributes, and imagine what you might score some common words on those attributes."
   ]
  },
  {
   "cell_type": "markdown",
   "metadata": {},
   "source": [
    "## Word Embeddings using Gluon package\n",
    "\n",
    "Before we get to examples, a few quick notes about how to use embeddings in mxnet and in deep learning programming in general. Similar to how we defined a unique index for each word when making one-hot vectors, we also need to define an index for each word when using embeddings. These will be keys into a lookup table. That is, embeddings are stored as a |V|×D|V|×D matrix, where DD is the dimensionality of the embeddings, such that the word assigned index ii has its embedding stored in the ii‘th row of the matrix."
   ]
  },
  {
   "cell_type": "markdown",
   "metadata": {},
   "source": [
    "Now let's import required dependencies with gluon"
   ]
  },
  {
   "cell_type": "code",
   "execution_count": 3,
   "metadata": {
    "collapsed": true
   },
   "outputs": [],
   "source": [
    "# import dependencies\n",
    "from __future__ import print_function\n",
    "import numpy as np\n",
    "import mxnet as mx\n",
    "import mxnet.ndarray as F\n",
    "from mxnet import gluon, autograd\n",
    "from mxnet.gluon import nn\n",
    "import logging\n",
    "logging.getLogger().setLevel(logging.INFO)"
   ]
  },
  {
   "cell_type": "markdown",
   "metadata": {},
   "source": [
    "The module that allows you to use embeddings is `nn.Embedding`, which takes two arguments: the vocabulary size, and the dimensionality of the embeddings.\n",
    "\n",
    "We will use [Trainer](http://mxnet.io/api/python/gluon.html#trainer) class to apply the\n",
    "[SGD optimizer](http://mxnet.io/api/python/optimization.html#mxnet.optimizer.SGD) on the\n",
    "initialized parameters."
   ]
  },
  {
   "cell_type": "code",
   "execution_count": 34,
   "metadata": {
    "collapsed": false
   },
   "outputs": [
    {
     "name": "stdout",
     "output_type": "stream",
     "text": [
      "[[ 0.31187248  0.376818   -0.15814561 -0.39180499  0.36155432 -0.20998895\n",
      "  -0.06597906  0.39059448 -0.13843545 -0.42548653]]\n",
      "<NDArray 1x10 @cpu(0)>\n"
     ]
    }
   ],
   "source": [
    "# Mapping of word to indices\n",
    "word_map = {\"The\": 0, \"quick\": 1, \"brown\":2, \"fox\": 3, \"jumps\": 4, \"over\":5, \"the\": 6, \"lazy\": 7, \"dog\":8 }\n",
    "\n",
    "# define simple network with embedding layer\n",
    "net = nn.Sequential()\n",
    "with net.name_scope():\n",
    "    net.add(nn.Embedding(9, 10))  # 9 words in vocab, 10 dimensional embeddings\n",
    "\n",
    "ctx = [mx.cpu(0), mx.cpu(1)]\n",
    "\n",
    "# Initialize parameters on given context\n",
    "net.collect_params().initialize(mx.init.Xavier(magnitude=2.24), ctx=ctx)\n",
    "trainer = gluon.Trainer(net.collect_params(), 'sgd', {'learning_rate': 0.1})\n",
    "\n",
    "# let's see the word embedding for \"quick\" now\n",
    "data = mx.nd.array([word_map[\"quick\"]])\n",
    "with autograd.record():\n",
    "    z = net(data)\n",
    "    z.backward()\n",
    "\n",
    "print(z)\n"
   ]
  },
  {
   "cell_type": "markdown",
   "metadata": {},
   "source": [
    "# N-Gram Language Modeling\n",
    "\n",
    "N-gram language model is a type of probabilistic language model for predicting next\n",
    "word given a sequence of words.\n",
    "\n",
    "  $$ P(w_i|w_{i-1},w_{i-2},…,w_{i-n+1}) $$\n",
    "\n",
    "Where wi is the i'th word of the sequence.\n",
    "\n",
    "In this example, we will compute the loss function on training data and update the parameters with backpropagation and we will show decreasing loss over iterations.\n"
   ]
  },
  {
   "cell_type": "markdown",
   "metadata": {},
   "source": [
    "### Data Preprocessing\n",
    "\n",
    "We first take a dataset, split it into words and create trigrams as follows:\n",
    "\n",
    "e.g \n",
    "sentence = the quick brown fox jumped over the lazy dog\n",
    "\n",
    "trigrams(sentence) = [\"the quick brown\", \"quick brown fox\", \"brown fox jumped\", \"fox jumped over\", \"jumped over the\", \"over the lazy\", \"the lazy dog\"]\n"
   ]
  },
  {
   "cell_type": "code",
   "execution_count": 24,
   "metadata": {
    "collapsed": false
   },
   "outputs": [
    {
     "name": "stdout",
     "output_type": "stream",
     "text": [
      "[(['When', 'forty'], 'winters'), (['forty', 'winters'], 'shall'), (['winters', 'shall'], 'besiege')]\n",
      "97\n"
     ]
    }
   ],
   "source": [
    "# Shakespeare Sonnet 2 as input data\n",
    "test_sentence = \"\"\"When forty winters shall besiege thy brow,\n",
    "And dig deep trenches in thy beauty's field,\n",
    "Thy youth's proud livery so gazed on now,\n",
    "Will be a totter'd weed of small worth held:\n",
    "Then being asked, where all thy beauty lies,\n",
    "Where all the treasure of thy lusty days;\n",
    "To say, within thine own deep sunken eyes,\n",
    "Were an all-eating shame, and thriftless praise.\n",
    "How much more praise deserv'd thy beauty's use,\n",
    "If thou couldst answer 'This fair child of mine\n",
    "Shall sum my count, and make my old excuse,'\n",
    "Proving his beauty by succession thine!\n",
    "This were to be new made when thou art old,\n",
    "And see thy blood warm when thou feel'st it cold.\"\"\".split()\n",
    "\n",
    "# build a list of tuples.  Each tuple is ([ word_i-2, word_i-1 ], target word)\n",
    "trigrams = [([test_sentence[i], test_sentence[i + 1]], test_sentence[i + 2])\n",
    "            for i in range(len(test_sentence) - 2)]\n",
    "\n",
    "# print the first 3, just so you can see what they look like\n",
    "print(trigrams[:3])\n",
    "\n",
    "vocab = set(test_sentence)\n",
    "vocab_size = len(vocab)\n",
    "print(vocab_size)\n",
    "\n",
    "# Return a dict which maps each word into an unique int id\n",
    "word_map = {word: i for i, word in enumerate(vocab)}"
   ]
  },
  {
   "cell_type": "markdown",
   "metadata": {},
   "source": [
    "### Define a network\n",
    "\n",
    "So let's define our embedding matrix first using `nn.Embedding` method which is used to store word embeddings and retrieve them using indices. This will output the corresponding word embeddings if provided a list of indices as input.\n",
    "\n",
    "Now, we will add two fully connected layers. The last fully connected layer often has its hidden size equal to the number of output classes in the dataset. Furthermore, these FC layers uses ReLU activation for performing an element-wise ReLU transformation on the FC layer output.\n",
    "\n",
    "A typical way to write your network using gluon package is creating a new class inherited from `gluon.Block` class. We can define the network by composing and inheriting `Block` class as follows:"
   ]
  },
  {
   "cell_type": "code",
   "execution_count": 25,
   "metadata": {
    "collapsed": true
   },
   "outputs": [],
   "source": [
    "context_size = 2\n",
    "embeding_dim = 10 # 10 dimensional embeddings\n",
    "\n",
    "class Net(nn.Block):\n",
    "    def __init__(self, **kwargs):\n",
    "        super(Net, self).__init__(**kwargs)\n",
    "        with self.name_scope():\n",
    "            self.embed = nn.Embedding(vocab_size, embeding_dim)\n",
    "            self.fc1 = nn.Dense(128, in_units= embeding_dim * context_size)\n",
    "            self.fc2 = nn.Dense(vocab_size)\n",
    "\n",
    "    def forward(self, x):\n",
    "        x = self.embed(x)\n",
    "        # 0 means copy over size from corresponding dimension.\n",
    "        # -1 means infer size from the rest of dimensions.\n",
    "        x = x.reshape((1, -1))\n",
    "        out = F.relu(self.fc1(x))\n",
    "        out = self.fc2(out)\n",
    "        return out"
   ]
  },
  {
   "cell_type": "markdown",
   "metadata": {},
   "source": [
    "### Initialize Parameters and loss\n",
    "\n",
    "A network must be created and initialized before it can be used.\n",
    "\n",
    "So, we will collect the parameters using `collect_params()` method and then initialize all parameters received using [Uniform](http://mxnet.io/api/python/optimization.html#mxnet.initializer.Uniform) initializer\n",
    "to train the network we defined above.\n",
    "\n",
    "Also, we will use [Trainer](http://mxnet.io/api/python/gluon.html#trainer) class to apply the\n",
    "[SGD optimizer](http://mxnet.io/api/python/optimization.html#mxnet.optimizer.SGD) on the\n",
    "initialized parameters. \n",
    "\n",
    "Loss function takes (output, label) pairs and computes a scalar loss for each sample in the mini-batch. The scalars measure how far each output is from the label.\n",
    "There are many predefined loss functions in gluon.loss. Here, we will use\n",
    "[softmax_cross_entropy_loss](http://mxnet.io/api/python/gluon.html#mxnet.gluon.loss.SoftmaxCrossEntropyLoss)."
   ]
  },
  {
   "cell_type": "code",
   "execution_count": 26,
   "metadata": {
    "collapsed": true
   },
   "outputs": [],
   "source": [
    "net = Net()\n",
    "net.collect_params().initialize(mx.init.Uniform(0.31))\n",
    "trainer = gluon.Trainer(net.collect_params(), 'sgd', {'learning_rate': 0.001})\n",
    "\n",
    "loss = gluon.loss.SoftmaxCrossEntropyLoss()"
   ]
  },
  {
   "cell_type": "markdown",
   "metadata": {},
   "source": [
    "### Train the network"
   ]
  },
  {
   "cell_type": "code",
   "execution_count": 32,
   "metadata": {
    "collapsed": false
   },
   "outputs": [
    {
     "name": "stdout",
     "output_type": "stream",
     "text": [
      "[507.85791158676147, 507.32832980155945, 506.79765462875366, 506.26463413238525, 505.73637557029724, 505.20990705490112, 504.6857795715332, 504.16079783439636, 503.63544011116028, 503.11203718185425]\n"
     ]
    }
   ],
   "source": [
    "losses = []\n",
    "epoch = 10 \n",
    "\n",
    "# Loop over inputs for every epoch.\n",
    "for epoch in range(epoch):\n",
    "    total_loss = 0\n",
    "    # Loop over the trigrams set\n",
    "    for context, target in trigrams:\n",
    "        # Getting indices from the word dict for context words\n",
    "        context_idxs = [word_map[w] for w in context]\n",
    "        context_var = mx.nd.array(context_idxs)\n",
    "        # Getting indices from the word dict for target word\n",
    "        label = mx.nd.array([word_map[target]])\n",
    "        # Inside training scope\n",
    "        with autograd.record():\n",
    "            # Get output probabilities after passing data through the network\n",
    "            log_probs = net(context_var)\n",
    "            # Computes softmax cross entropy loss passing output.\n",
    "            L = loss(log_probs, label)\n",
    "            # Backpropogate the error for one iteration.\n",
    "            L.backward()\n",
    "        # Make one step of parameter update. Trainer needs to know the\n",
    "        # batch size of data to normalize the gradient by 1/batch_size.\n",
    "        trainer.step(1)\n",
    "        total_loss += mx.nd.array(L).asscalar()  \n",
    "    losses.append(total_loss)\n",
    "print(losses)"
   ]
  },
  {
   "cell_type": "markdown",
   "metadata": {},
   "source": [
    "## Computing Word Embeddings: Continuous Bag-of-Words\n",
    "\n",
    "The Continuous Bag-of-Words model (CBOW) is frequently used in NLP deep learning. It is a model that tries to predict words given the context of a few words before and a few words after the target word. This is distinct from language modeling, since CBOW is not sequential and does not have to be probabilistic. Typically, CBOW is used to quickly train word embeddings, and these embeddings are used to initialize the embeddings of some more complicated model. Usually, this is referred to as pretraining embeddings. It almost always helps performance a couple of percent."
   ]
  },
  {
   "cell_type": "markdown",
   "metadata": {},
   "source": [
    "The CBOW model is as follows. Given a target word wi and an NN context window on each side, $w_{i-1},…,w_{i-N}$ and $w_{i+1},…,w_{i+N} $, referring to all context words collectively as C, CBOW tries to minimize\n",
    "\n",
    "  $$ - \\log P(w_i | C) = - \\log Softmax(A(\\sum_{w \\in C} q_w) + b)$$\n",
    "\n",
    "where q_w is the embedding for word ww."
   ]
  },
  {
   "cell_type": "markdown",
   "metadata": {},
   "source": [
    "So basically, CBOW predicts a word given its context. The target word vector is now the output vector of the word at index i; the predicted word vector is the sum over all context input vectors.\n",
    "\n",
    "Now let's implement this model using mxnet's gluon package."
   ]
  },
  {
   "cell_type": "code",
   "execution_count": 23,
   "metadata": {
    "collapsed": false
   },
   "outputs": [
    {
     "name": "stdout",
     "output_type": "stream",
     "text": [
      "[(['We', 'are', 'to', 'study'], 'about'), (['are', 'about', 'study', 'the'], 'to'), (['about', 'to', 'the', 'idea'], 'study'), (['to', 'study', 'idea', 'of'], 'the'), (['study', 'the', 'of', 'a'], 'idea')]\n",
      "49\n",
      "[225.80620884895325, 225.78713583946228, 225.76819825172424, 225.74939799308777, 225.73073291778564, 225.71220088005066, 225.69380211830139, 225.675532579422, 225.6573965549469, 225.63939094543457]\n"
     ]
    }
   ],
   "source": [
    "# [Todo] Add code explanation\n",
    "\n",
    "context_size = 4  # 2 words to the left, 2 to the right\n",
    "embeding_dim = 10\n",
    "raw_text = \"\"\"We are about to study the idea of a computational process.\n",
    "Computational processes are abstract beings that inhabit computers.\n",
    "As they evolve, processes manipulate other abstract things called data.\n",
    "The evolution of a process is directed by a pattern of rules\n",
    "called a program. People create programs to direct processes. In effect,\n",
    "we conjure the spirits of the computer with our spells.\"\"\".split()\n",
    "\n",
    "# By deriving a set from `raw_text`, we deduplicate the array\n",
    "vocab = set(raw_text)\n",
    "vocab_size = len(vocab)\n",
    "\n",
    "word_to_ix = {word: i for i, word in enumerate(vocab)}\n",
    "data = []\n",
    "context_arr = []\n",
    "target_arr = []\n",
    "for i in range(2, len(raw_text) - 2):\n",
    "    context = [raw_text[i - 2], raw_text[i - 1],\n",
    "               raw_text[i + 1], raw_text[i + 2]]\n",
    "    target = raw_text[i]\n",
    "\n",
    "    context_arr.append([word_to_ix[word] for word in context])\n",
    "    target_arr.append([word_to_ix[target]])\n",
    "\n",
    "    data.append((context, target))\n",
    "print(data[:5])\n",
    "print(vocab_size)\n",
    "\n",
    "batch_size=5\n",
    "def get_batch(data, batch_size, i):\n",
    "    return mx.nd.array(data[i:i+batch_size])\n",
    "\n",
    "class Net(nn.Block):\n",
    "    def __init__(self, **kwargs):\n",
    "        super(Net, self).__init__(**kwargs)\n",
    "        with self.name_scope():\n",
    "            self.embed = nn.Embedding(vocab_size, embeding_dim)\n",
    "            self.fc1 = nn.Dense(vocab_size, in_units = embeding_dim)\n",
    "\n",
    "    def forward(self, x):\n",
    "        x = self.embed(x)\n",
    "        x = F.sum(data = x, axis=0)  \n",
    "        x = x.reshape((1, -1))\n",
    "        out = self.fc1(x)\n",
    "        return out\n",
    "\n",
    "ctx = mx.cpu(0)\n",
    "\n",
    "net = Net()\n",
    "net.collect_params().initialize(mx.init.Uniform(), ctx=ctx)\n",
    "trainer = gluon.Trainer(net.collect_params(), 'sgd', {'learning_rate': 0.003})\n",
    "\n",
    "losses = []\n",
    "loss = gluon.loss.SoftmaxCrossEntropyLoss()\n",
    "\n",
    "for epoch in range(10):\n",
    "    total_loss = 0\n",
    "    total = 0\n",
    "    for ibatch in range(0, len(context_arr)-1, batch_size):\n",
    "        context_batch = get_batch(context_arr, batch_size, ibatch)\n",
    "        target_batch = get_batch(target_arr, batch_size, ibatch)\n",
    "        with autograd.record():\n",
    "            for x, label in zip(context_batch,target_batch):\n",
    "                log_probs = net(x)                \n",
    "                L = loss(log_probs, label)\n",
    "                L.backward()\n",
    "\n",
    "                total_loss += mx.nd.array(L).asscalar()\n",
    "\n",
    "        trainer.step(batch_size)\n",
    "    losses.append(total_loss)\n",
    "print(losses)"
   ]
  },
  {
   "cell_type": "code",
   "execution_count": null,
   "metadata": {
    "collapsed": true
   },
   "outputs": [],
   "source": []
  }
 ],
 "metadata": {
  "kernelspec": {
   "display_name": "Python [Root]",
   "language": "python",
   "name": "Python [Root]"
  },
  "language_info": {
   "codemirror_mode": {
    "name": "ipython",
    "version": 2
   },
   "file_extension": ".py",
   "mimetype": "text/x-python",
   "name": "python",
   "nbconvert_exporter": "python",
   "pygments_lexer": "ipython2",
   "version": "2.7.12"
  }
 },
 "nbformat": 4,
 "nbformat_minor": 0
}
