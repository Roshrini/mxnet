{
 "cells": [
  {
   "cell_type": "code",
   "execution_count": 123,
   "metadata": {
    "collapsed": false
   },
   "outputs": [],
   "source": [
    "# import dependencies\n",
    "from __future__ import print_function\n",
    "import numpy as np\n",
    "import mxnet as mx\n",
    "import mxnet.ndarray as F\n",
    "from mxnet import gluon, autograd\n",
    "from mxnet.gluon import nn\n",
    "import logging\n",
    "logging.getLogger().setLevel(logging.INFO)"
   ]
  },
  {
   "cell_type": "code",
   "execution_count": 201,
   "metadata": {
    "collapsed": false
   },
   "outputs": [
    {
     "name": "stdout",
     "output_type": "stream",
     "text": [
      "[(['When', 'forty'], 'winters'), (['forty', 'winters'], 'shall'), (['winters', 'shall'], 'besiege')]\n",
      "97 113\n"
     ]
    }
   ],
   "source": [
    "context_size = 2\n",
    "embeding_dim = 10\n",
    "# We will use Shakespeare Sonnet 2\n",
    "test_sentence = \"\"\"When forty winters shall besiege thy brow,\n",
    "And dig deep trenches in thy beauty's field,\n",
    "Thy youth's proud livery so gazed on now,\n",
    "Will be a totter'd weed of small worth held:\n",
    "Then being asked, where all thy beauty lies,\n",
    "Where all the treasure of thy lusty days;\n",
    "To say, within thine own deep sunken eyes,\n",
    "Were an all-eating shame, and thriftless praise.\n",
    "How much more praise deserv'd thy beauty's use,\n",
    "If thou couldst answer 'This fair child of mine\n",
    "Shall sum my count, and make my old excuse,'\n",
    "Proving his beauty by succession thine!\n",
    "This were to be new made when thou art old,\n",
    "And see thy blood warm when thou feel'st it cold.\"\"\".split()\n",
    "# we should tokenize the input, but we will ignore that for now\n",
    "# build a list of tuples.  Each tuple is ([ word_i-2, word_i-1 ], target word)\n",
    "trigrams = [([test_sentence[i], test_sentence[i + 1]], test_sentence[i + 2])\n",
    "            for i in range(len(test_sentence) - 2)]\n",
    "# print the first 3, just so you can see what they look like\n",
    "print(trigrams[:3])\n",
    "\n",
    "vocab = set(test_sentence)\n",
    "vocab_size = len(vocab)\n",
    "print(vocab_size, len(trigrams))\n",
    "\n",
    "word_to_ix = {word: i for i, word in enumerate(vocab)}"
   ]
  },
  {
   "cell_type": "code",
   "execution_count": 135,
   "metadata": {
    "collapsed": false
   },
   "outputs": [],
   "source": [
    "class Net(nn.Block):\n",
    "    def __init__(self, **kwargs):\n",
    "        super(Net, self).__init__(**kwargs)\n",
    "        with self.name_scope():\n",
    "            self.embed = nn.Embedding(vocab_size, embeding_dim)\n",
    "            self.fc1 = nn.Dense(128, in_units= embeding_dim * context_size)\n",
    "            self.fc2 = nn.Dense(vocab_size)\n",
    "\n",
    "    def forward(self, x):\n",
    "        x = self.embed(x)\n",
    "        # 0 means copy over size from corresponding dimension.\n",
    "        # -1 means infer size from the rest of dimensions.\n",
    "        x = x.reshape((1, -1))\n",
    "        out = F.relu(self.fc1(x))\n",
    "        out = self.fc2(out)\n",
    "        #out = F.log_softmax(out)\n",
    "        return out\n",
    "        "
   ]
  },
  {
   "cell_type": "code",
   "execution_count": 242,
   "metadata": {
    "collapsed": true
   },
   "outputs": [],
   "source": [
    "ctx = mx.cpu(0)\n",
    "net = Net()\n",
    "net.collect_params().initialize(mx.init.Uniform(0.31), ctx=ctx)\n",
    "trainer = gluon.Trainer(net.collect_params(), 'sgd', {'learning_rate': 0.001})\n"
   ]
  },
  {
   "cell_type": "code",
   "execution_count": 243,
   "metadata": {
    "collapsed": false
   },
   "outputs": [
    {
     "name": "stdout",
     "output_type": "stream",
     "text": [
      "[517.26326894760132, 516.66081476211548, 516.06235694885254, 515.46494150161743, 514.86982488632202, 514.28023815155029, 513.69159698486328, 513.10643243789673, 512.52707481384277, 511.95334434509277]\n"
     ]
    }
   ],
   "source": [
    "\n",
    "# print(net.collect_params().keys())\n",
    "# print(\"net paramss\", net.collect_params()['net80_embedding0_weight'].set_data(nd.array(torch)))\n",
    "# print(net.fc2.weight.data())\n",
    "#metric = mx.metric.Accuracy()\n",
    "loss = gluon.loss.SoftmaxCrossEntropyLoss()\n",
    "\n",
    "losses = []\n",
    "for epoch in range(10):\n",
    "    total_loss = 0\n",
    "    #metric.reset()\n",
    "    for context, target in trigrams:     \n",
    "        context_idxs = [word_to_ix[w] for w in context]\n",
    "        context_var = mx.nd.array(context_idxs)\n",
    "        label = mx.nd.array([word_to_ix[target]])\n",
    "        with autograd.record():       \n",
    "                net.params.zero_grad\n",
    "                log_probs = net(context_var)\n",
    "                L = loss(log_probs, label)\n",
    "                L.backward()\n",
    "        \n",
    "        trainer.step(1)\n",
    "    #    metric.update([label], [log_probs])\n",
    "        total_loss += mx.nd.array(L).asscalar()  \n",
    "    losses.append(total_loss)\n",
    "    \n",
    "#     name, acc = metric.get()\n",
    "#     print('[Epoch %d] Training: %s=%f'%(epoch, name, acc))\n",
    "\n",
    "print(losses)"
   ]
  },
  {
   "cell_type": "code",
   "execution_count": null,
   "metadata": {
    "collapsed": true
   },
   "outputs": [],
   "source": []
  }
 ],
 "metadata": {
  "anaconda-cloud": {},
  "kernelspec": {
   "display_name": "Python [Root]",
   "language": "python",
   "name": "Python [Root]"
  },
  "language_info": {
   "codemirror_mode": {
    "name": "ipython",
    "version": 2
   },
   "file_extension": ".py",
   "mimetype": "text/x-python",
   "name": "python",
   "nbconvert_exporter": "python",
   "pygments_lexer": "ipython2",
   "version": "2.7.12"
  }
 },
 "nbformat": 4,
 "nbformat_minor": 0
}
